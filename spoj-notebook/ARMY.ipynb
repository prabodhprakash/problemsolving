{
 "cells": [
  {
   "cell_type": "code",
   "execution_count": 12,
   "metadata": {
    "collapsed": false
   },
   "outputs": [],
   "source": [
    "def find_winner(count_arr, godzilla_army, mecha_godzilla_army):\n",
    "    i = 0\n",
    "    j = 0\n",
    "    godzilla_army.sort()\n",
    "    mecha_godzilla_army.sort()\n",
    "    len_godzilla_army = count_arr[0]\n",
    "    len_mecha_godzilla_army = count_arr[1]\n",
    "    is_godzilla_winner = True\n",
    "    \n",
    "    while True:\n",
    "        if godzilla_army[i] < mecha_godzilla_army[j]:\n",
    "            i += 1\n",
    "            if i == len_godzilla_army:\n",
    "                is_godzilla_winner = False\n",
    "                break\n",
    "            \n",
    "        elif godzilla_army[i] >= mecha_godzilla_army[j]:\n",
    "            j += 1\n",
    "            if j == len_mecha_godzilla_army:\n",
    "                break;\n",
    "            \n",
    "    \n",
    "    print \"Godzilla\" if is_godzilla_winner else \"MechaGodzilla\"\n",
    "    "
   ]
  },
  {
   "cell_type": "code",
   "execution_count": 14,
   "metadata": {
    "collapsed": false
   },
   "outputs": [
    {
     "name": "stdout",
     "output_type": "stream",
     "text": [
      "1\n",
      "\n",
      "3 2\n",
      "1 3 2\n",
      "5 5\n",
      "MechaGodzilla\n"
     ]
    }
   ],
   "source": [
    "no_test_cases = input()\n",
    "\n",
    "for i in range(0, no_test_cases):\n",
    "    raw_input()\n",
    "    count_arr = map(int, raw_input().split())\n",
    "    godzilla_army = map(int, raw_input().split())\n",
    "    mecha_godzilla_army = map(int, raw_input().split())\n",
    "    \n",
    "    find_winner(count_arr, godzilla_army, mecha_godzilla_army)"
   ]
  },
  {
   "cell_type": "code",
   "execution_count": null,
   "metadata": {
    "collapsed": true
   },
   "outputs": [],
   "source": []
  }
 ],
 "metadata": {
  "kernelspec": {
   "display_name": "Python 2",
   "language": "python",
   "name": "python2"
  },
  "language_info": {
   "codemirror_mode": {
    "name": "ipython",
    "version": 2
   },
   "file_extension": ".py",
   "mimetype": "text/x-python",
   "name": "python",
   "nbconvert_exporter": "python",
   "pygments_lexer": "ipython2",
   "version": "2.7.12"
  }
 },
 "nbformat": 4,
 "nbformat_minor": 1
}
