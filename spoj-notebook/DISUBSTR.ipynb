{
 "cells": [
  {
   "cell_type": "code",
   "execution_count": 13,
   "metadata": {
    "collapsed": true
   },
   "outputs": [],
   "source": [
    "class Node:\n",
    "    node_char = None\n",
    "    child_arr = [None]*26\n",
    "    \n",
    "    def __init__(self, _node_char):\n",
    "        self.node_char = _node_char\n",
    "        self.child_arr = [None]*26"
   ]
  },
  {
   "cell_type": "code",
   "execution_count": 14,
   "metadata": {
    "collapsed": false
   },
   "outputs": [],
   "source": [
    "def solve(input_str):\n",
    "    no_nodes = 0\n",
    "    root_node = Node('')\n",
    "    suffix_dict = dict()\n",
    "    \n",
    "    for i in range (len(input_str), -1, -1):\n",
    "        current_suffix = input_str[i:]\n",
    "\n",
    "        curr_node = root_node\n",
    "        for j in range (0, len(current_suffix)):\n",
    "            c = current_suffix[j]\n",
    "            if curr_node.child_arr[ord(c) - 65] is None:\n",
    "                child_node = Node(c)\n",
    "                curr_node.child_arr[ord(c) - 65] = child_node\n",
    "                \n",
    "                no_nodes = no_nodes + 1\n",
    "                curr_node = child_node\n",
    "            else:\n",
    "                curr_node = curr_node.child_arr[ord(c) - 65]\n",
    "    print no_nodes"
   ]
  },
  {
   "cell_type": "code",
   "execution_count": 15,
   "metadata": {
    "collapsed": false,
    "scrolled": true
   },
   "outputs": [
    {
     "name": "stdout",
     "output_type": "stream",
     "text": [
      "2\n",
      "AA\n",
      "2\n",
      "AB\n",
      "3\n"
     ]
    }
   ],
   "source": [
    "for i in range(0, int(raw_input())):\n",
    "    input_str = raw_input()\n",
    "    \n",
    "    solve(input_str)"
   ]
  },
  {
   "cell_type": "code",
   "execution_count": null,
   "metadata": {
    "collapsed": true
   },
   "outputs": [],
   "source": []
  }
 ],
 "metadata": {
  "kernelspec": {
   "display_name": "Python 2",
   "language": "python",
   "name": "python2"
  },
  "language_info": {
   "codemirror_mode": {
    "name": "ipython",
    "version": 2
   },
   "file_extension": ".py",
   "mimetype": "text/x-python",
   "name": "python",
   "nbconvert_exporter": "python",
   "pygments_lexer": "ipython2",
   "version": "2.7.12"
  }
 },
 "nbformat": 4,
 "nbformat_minor": 1
}
