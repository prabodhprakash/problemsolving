{
 "cells": [
  {
   "cell_type": "code",
   "execution_count": 1,
   "metadata": {
    "collapsed": true
   },
   "outputs": [],
   "source": [
    "def find_total_numbers(third_number, third_last_number, sum_):\n",
    "    sum_of_missing_number = sum_ - 3*(third_number + third_last_number)\n",
    "    total_numbers = (2*sum_of_missing_number + 6*(third_number + third_last_number)) / (third_number + third_last_number)\n",
    "    print total_numbers\n",
    "    return total_numbers"
   ]
  },
  {
   "cell_type": "code",
   "execution_count": 2,
   "metadata": {
    "collapsed": true
   },
   "outputs": [],
   "source": [
    "def find_diff(third_number, third_last_number, distance):\n",
    "    difference = (third_last_number - third_number)/distance\n",
    "    return difference"
   ]
  },
  {
   "cell_type": "code",
   "execution_count": 3,
   "metadata": {
    "collapsed": true
   },
   "outputs": [],
   "source": [
    "def print_ap(third_number, difference, total_numbers):\n",
    "    first_number = third_number - 2*difference\n",
    "    \n",
    "    ap_str = str(first_number)\n",
    "    \n",
    "    for i in range(1, total_numbers):\n",
    "        ap_str = ap_str + \" \" + str((i*difference) + first_number)\n",
    "    \n",
    "    print ap_str"
   ]
  },
  {
   "cell_type": "code",
   "execution_count": 4,
   "metadata": {
    "collapsed": false
   },
   "outputs": [
    {
     "name": "stdout",
     "output_type": "stream",
     "text": [
      "1\n",
      "3 8 55\n",
      "10\n",
      "1 2 3 4 5 6 7 8 9 10\n"
     ]
    }
   ],
   "source": [
    "no_inputs = int(raw_input())\n",
    "\n",
    "for i in range(0, no_inputs):\n",
    "    ap_properties = map(int, raw_input().split())\n",
    "    third_number = ap_properties[0]\n",
    "    third_last_number = ap_properties[1]\n",
    "    sum_ = ap_properties[2]\n",
    "    \n",
    "    total_numbers = find_total_numbers(third_number, third_last_number, sum_)\n",
    "    \n",
    "    difference = find_diff(third_number, third_last_number, total_numbers - 5)\n",
    "    print_ap(third_number, difference, total_numbers)\n",
    "    \n"
   ]
  },
  {
   "cell_type": "code",
   "execution_count": null,
   "metadata": {
    "collapsed": true
   },
   "outputs": [],
   "source": []
  }
 ],
 "metadata": {
  "kernelspec": {
   "display_name": "Python 2",
   "language": "python",
   "name": "python2"
  },
  "language_info": {
   "codemirror_mode": {
    "name": "ipython",
    "version": 2
   },
   "file_extension": ".py",
   "mimetype": "text/x-python",
   "name": "python",
   "nbconvert_exporter": "python",
   "pygments_lexer": "ipython2",
   "version": "2.7.12"
  }
 },
 "nbformat": 4,
 "nbformat_minor": 1
}
