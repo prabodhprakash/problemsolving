{
 "cells": [
  {
   "cell_type": "code",
   "execution_count": 46,
   "metadata": {
    "collapsed": true
   },
   "outputs": [],
   "source": [
    "possibilities = []"
   ]
  },
  {
   "cell_type": "code",
   "execution_count": 74,
   "metadata": {
    "collapsed": false
   },
   "outputs": [],
   "source": [
    "def find_max_combinations(num):\n",
    "    possibilities = []\n",
    "    num_arr = [int(i) for i in str(num)]\n",
    "    is_invalid = False\n",
    "    for i in range (0, len(num_arr)):\n",
    "        if i == 0:\n",
    "            possibilities.insert(i, 1)\n",
    "        else:\n",
    "            possibilities.insert(i, possibilities[i-1])\n",
    "            \n",
    "            sum = num_arr[i-1]*10 + num_arr[i]\n",
    "            if sum > 0:\n",
    "                if sum <= 26: \n",
    "                    if num_arr[i] == 0: #current is 0, append to previous\n",
    "                        possibilities[i] = possibilities[i-2] if i >= 2 else 1\n",
    "                    elif num_arr[i-1] == 0: #previous was 0, possibilities would remain same\n",
    "                        pass\n",
    "                    else:\n",
    "                         possibilities[i] = possibilities[i-2] + possibilities[i-1] if i >= 2 else 2\n",
    "                elif sum > 26 and num_arr[i] == 0:\n",
    "                    is_invalid = True\n",
    "                    break\n",
    "            else:\n",
    "                is_invalid = True\n",
    "                break\n",
    "                \n",
    "    return 0 if is_invalid else possibilities[len(possibilities) - 1]\n",
    "                \n",
    "        "
   ]
  },
  {
   "cell_type": "code",
   "execution_count": 75,
   "metadata": {
    "collapsed": false
   },
   "outputs": [
    {
     "name": "stdout",
     "output_type": "stream",
     "text": [
      "202002\n",
      "0\n",
      "200202\n",
      "0\n",
      "25114\n",
      "6\n",
      "1010\n",
      "2\n",
      "270\n",
      "0\n",
      "101\n",
      "1\n",
      "1011\n",
      "2\n",
      "251\n",
      "2\n",
      "25\n",
      "2\n",
      "222\n",
      "3\n",
      "0\n"
     ]
    }
   ],
   "source": [
    "while True:\n",
    "    num = input()\n",
    "    if num > 0:\n",
    "        print find_max_combinations(num)\n",
    "    else:\n",
    "        break"
   ]
  },
  {
   "cell_type": "code",
   "execution_count": 69,
   "metadata": {
    "collapsed": false
   },
   "outputs": [
    {
     "name": "stdout",
     "output_type": "stream",
     "text": [
      "0\n",
      "0\n",
      "6\n",
      "2\n",
      "0\n",
      "0\n",
      "0\n",
      "0\n",
      "1\n",
      "2\n"
     ]
    }
   ],
   "source": [
    "print find_max_combinations(202002)\n",
    "print find_max_combinations(200202)\n",
    "print find_max_combinations(25114)\n",
    "print find_max_combinations(1010)\n",
    "print find_max_combinations(1001)\n",
    "print find_max_combinations(270)\n",
    "print find_max_combinations(501)\n",
    "print find_max_combinations(100)\n",
    "print find_max_combinations(101)\n",
    "print find_max_combinations(1011)\n"
   ]
  },
  {
   "cell_type": "code",
   "execution_count": null,
   "metadata": {
    "collapsed": true
   },
   "outputs": [],
   "source": []
  }
 ],
 "metadata": {
  "kernelspec": {
   "display_name": "Python 2",
   "language": "python",
   "name": "python2"
  },
  "language_info": {
   "codemirror_mode": {
    "name": "ipython",
    "version": 2
   },
   "file_extension": ".py",
   "mimetype": "text/x-python",
   "name": "python",
   "nbconvert_exporter": "python",
   "pygments_lexer": "ipython2",
   "version": "2.7.12"
  }
 },
 "nbformat": 4,
 "nbformat_minor": 1
}
