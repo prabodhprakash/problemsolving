{
 "cells": [
  {
   "cell_type": "code",
   "execution_count": 31,
   "metadata": {
    "collapsed": true
   },
   "outputs": [],
   "source": [
    "def find_min_edit(wordA, wordB):\n",
    "    lengthA = len(wordA)\n",
    "    lengthB = len(wordB)\n",
    "    \n",
    "    matAB = [[0 for x in range(lengthA + 1)] for y in range(lengthB + 1)]\n",
    "    \n",
    "    for i in range(lengthA + 1):\n",
    "        matAB[0][i] = i\n",
    "    \n",
    "    for i in range(lengthB + 1):\n",
    "        matAB[i][0] = i\n",
    "    \n",
    "    for i in range(1, lengthB + 1):\n",
    "        for j in range (1, lengthA + 1):\n",
    "            if wordA[j-1] == wordB[i-1]:\n",
    "                matAB[i][j] = matAB[i-1][j-1]\n",
    "            else:\n",
    "                matAB[i][j] = min(matAB[i][j-1], matAB[i-1][j-1], matAB[i-1][j]) + 1\n",
    "                \n",
    "    print matAB[lengthB][lengthA]"
   ]
  },
  {
   "cell_type": "code",
   "execution_count": 32,
   "metadata": {
    "collapsed": false
   },
   "outputs": [
    {
     "name": "stdout",
     "output_type": "stream",
     "text": [
      "1\n",
      "FOOD\n",
      "MONEY\n",
      "1 1 F M\n",
      "1 2 O M\n",
      "1 3 O M\n",
      "1 4 D M\n",
      "2 1 F O\n",
      "2 2 O O\n",
      "2 3 O O\n",
      "2 4 D O\n",
      "3 1 F N\n",
      "3 2 O N\n",
      "3 3 O N\n",
      "3 4 D N\n",
      "4 1 F E\n",
      "4 2 O E\n",
      "4 3 O E\n",
      "4 4 D E\n",
      "5 1 F Y\n",
      "5 2 O Y\n",
      "5 3 O Y\n",
      "5 4 D Y\n",
      "4\n"
     ]
    }
   ],
   "source": [
    "no_test_cases = int(raw_input())\n",
    "\n",
    "for i in range(no_test_cases):\n",
    "    wordA = str(raw_input())\n",
    "    wordB = str(raw_input())\n",
    "    \n",
    "    find_min_edit(wordA, wordB)"
   ]
  },
  {
   "cell_type": "code",
   "execution_count": null,
   "metadata": {
    "collapsed": true
   },
   "outputs": [],
   "source": []
  }
 ],
 "metadata": {
  "kernelspec": {
   "display_name": "Python 2",
   "language": "python",
   "name": "python2"
  },
  "language_info": {
   "codemirror_mode": {
    "name": "ipython",
    "version": 2
   },
   "file_extension": ".py",
   "mimetype": "text/x-python",
   "name": "python",
   "nbconvert_exporter": "python",
   "pygments_lexer": "ipython2",
   "version": "2.7.12"
  }
 },
 "nbformat": 4,
 "nbformat_minor": 1
}
