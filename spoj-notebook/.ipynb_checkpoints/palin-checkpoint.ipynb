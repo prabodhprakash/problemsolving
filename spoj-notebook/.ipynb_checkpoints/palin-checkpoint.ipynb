{
 "cells": [
  {
   "cell_type": "code",
   "execution_count": null,
   "metadata": {
    "collapsed": true
   },
   "outputs": [],
   "source": [
    "#credit: https://github.com/sarupbanskota/SPOJ/blob/master/PALIN.py"
   ]
  },
  {
   "cell_type": "code",
   "execution_count": 82,
   "metadata": {
    "collapsed": true
   },
   "outputs": [],
   "source": [
    "def inc(left):\n",
    "    leftlist=list(left) \n",
    "    last = len(left)-1 \n",
    "    while leftlist[last]=='9': \n",
    "        leftlist[last]='0'\n",
    "        last-=1\n",
    "    \n",
    "    leftlist[last] = str(int(leftlist[last])+1)\n",
    "    return \"\".join(leftlist)"
   ]
  },
  {
   "cell_type": "code",
   "execution_count": 83,
   "metadata": {
    "collapsed": false
   },
   "outputs": [],
   "source": [
    "def next_smallest_palindrome(number):\n",
    "    size=len(number)\n",
    "    odd=size%2\n",
    "    if odd:\n",
    "        center=number[size/2]\n",
    "    else:\n",
    "        center=''\n",
    "    left=number[:size/2]\n",
    "    right = left[::-1]\n",
    "    pdrome = left + center + right\n",
    "    if pdrome > number:\n",
    "        print pdrome\n",
    "    else:\n",
    "        if center:\n",
    "            if center<'9':\n",
    "                center = str(int(center)+1)\n",
    "                print left + center + right\n",
    "                return\n",
    "            else:\n",
    "                center = '0'\n",
    "        if left == len(left)*'9':\n",
    "            print '1' + (len(number)-1)*'0' + '1'\n",
    "        else:\n",
    "            left = inc(left)\n",
    "            print left + center + left[::-1]"
   ]
  },
  {
   "cell_type": "code",
   "execution_count": 81,
   "metadata": {
    "collapsed": false
   },
   "outputs": [
    {
     "name": "stdout",
     "output_type": "stream",
     "text": [
      "33\n",
      "None\n",
      "11\n",
      "None\n",
      "0001000\n",
      "None\n",
      "1000001\n",
      "None\n",
      "2552\n",
      "None\n",
      "3003\n",
      "None\n",
      "30003\n",
      "None\n"
     ]
    }
   ],
   "source": [
    "print next_smallest_palindrome(\"24\")\n",
    "print next_smallest_palindrome(\"9\")\n",
    "print next_smallest_palindrome(\"0000000\")\n",
    "print next_smallest_palindrome(\"999999\")\n",
    "print next_smallest_palindrome(\"2456\") \n",
    "print next_smallest_palindrome(\"2998\")\n",
    "print next_smallest_palindrome(\"29999\") "
   ]
  },
  {
   "cell_type": "code",
   "execution_count": null,
   "metadata": {
    "collapsed": true
   },
   "outputs": [],
   "source": []
  }
 ],
 "metadata": {
  "kernelspec": {
   "display_name": "Python 2",
   "language": "python",
   "name": "python2"
  },
  "language_info": {
   "codemirror_mode": {
    "name": "ipython",
    "version": 2
   },
   "file_extension": ".py",
   "mimetype": "text/x-python",
   "name": "python",
   "nbconvert_exporter": "python",
   "pygments_lexer": "ipython2",
   "version": "2.7.12"
  }
 },
 "nbformat": 4,
 "nbformat_minor": 1
}
