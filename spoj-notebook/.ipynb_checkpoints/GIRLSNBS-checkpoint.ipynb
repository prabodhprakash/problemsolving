{
 "cells": [
  {
   "cell_type": "code",
   "execution_count": 10,
   "metadata": {
    "collapsed": true
   },
   "outputs": [],
   "source": [
    "import math"
   ]
  },
  {
   "cell_type": "code",
   "execution_count": 11,
   "metadata": {
    "collapsed": false
   },
   "outputs": [],
   "source": [
    "def find_solution(no_girls, no_boys):\n",
    "    if no_girls == no_boys:\n",
    "        return 1\n",
    "    elif (no_girls > no_boys):\n",
    "        return math.ceil((no_girls/(no_boys+1.0)))\n",
    "    elif (no_girls < no_boys):\n",
    "        return math.ceil((no_boys/(no_girls+1.0)))"
   ]
  },
  {
   "cell_type": "code",
   "execution_count": null,
   "metadata": {
    "collapsed": false
   },
   "outputs": [
    {
     "name": "stdout",
     "output_type": "stream",
     "text": [
      "999 88\n",
      "12\n",
      "12 22\n",
      "2\n",
      "666 223\n",
      "3\n",
      "100 1\n",
      "50\n",
      "0 0\n",
      "0\n",
      "1\n"
     ]
    }
   ],
   "source": [
    "while True:\n",
    "    int_arr = map(int, raw_input().split())\n",
    "    \n",
    "    no_girls = int_arr[0]\n",
    "    no_boys = int_arr[1]\n",
    "    \n",
    "    if no_girls == 0 and no_boys == 0:\n",
    "        print 0\n",
    "    elif no_girls == -1 and no_boys == -1:\n",
    "        break\n",
    "    else:\n",
    "        print int(find_solution(no_girls, no_boys))\n",
    "    "
   ]
  },
  {
   "cell_type": "code",
   "execution_count": null,
   "metadata": {
    "collapsed": true
   },
   "outputs": [],
   "source": []
  }
 ],
 "metadata": {
  "kernelspec": {
   "display_name": "Python 2",
   "language": "python",
   "name": "python2"
  },
  "language_info": {
   "codemirror_mode": {
    "name": "ipython",
    "version": 2
   },
   "file_extension": ".py",
   "mimetype": "text/x-python",
   "name": "python",
   "nbconvert_exporter": "python",
   "pygments_lexer": "ipython2",
   "version": "2.7.12"
  }
 },
 "nbformat": 4,
 "nbformat_minor": 1
}
