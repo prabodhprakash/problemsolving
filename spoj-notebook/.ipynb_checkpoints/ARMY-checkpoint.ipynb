{
 "cells": [
  {
   "cell_type": "code",
   "execution_count": 10,
   "metadata": {
    "collapsed": false
   },
   "outputs": [],
   "source": [
    "def find_winner(count_arr, godzilla_army, mecha_godzilla_army):\n",
    "    i = 0\n",
    "    j = 0\n",
    "    godzilla_army.sort()\n",
    "    mecha_godzilla_army.sort()\n",
    "    len_godzilla_army = count_arr[0]\n",
    "    len_mecha_godzilla_army = count_arr[1]\n",
    "    is_godzilla_winner = True\n",
    "    \n",
    "    while True:\n",
    "        if godzilla_army[i] < mecha_godzilla_army[j]:\n",
    "            i += 1\n",
    "            if i == len_godzilla_army:\n",
    "                is_godzilla_winner = False\n",
    "                break\n",
    "            \n",
    "        elif godzilla_army[i] >= mecha_godzilla_army[j]:\n",
    "            j += 1\n",
    "            if j == len_mecha_godzilla_army:\n",
    "                break;\n",
    "            \n",
    "    \n",
    "    print \"Godzilla\" if is_godzilla_winner else \"MechaGodzilla\"\n",
    "    "
   ]
  },
  {
   "cell_type": "code",
   "execution_count": 11,
   "metadata": {
    "collapsed": false
   },
   "outputs": [
    {
     "name": "stdout",
     "output_type": "stream",
     "text": [
      "1\n",
      "\n",
      "1 1\n",
      "1\n",
      "1\n"
     ]
    },
    {
     "ename": "IndexError",
     "evalue": "list index out of range",
     "output_type": "error",
     "traceback": [
      "\u001b[0;31m---------------------------------------------------------------------------\u001b[0m",
      "\u001b[0;31mIndexError\u001b[0m                                Traceback (most recent call last)",
      "\u001b[0;32m<ipython-input-11-207ff1352a92>\u001b[0m in \u001b[0;36m<module>\u001b[0;34m()\u001b[0m\n\u001b[1;32m      7\u001b[0m     \u001b[0mmecha_godzilla_army\u001b[0m \u001b[0;34m=\u001b[0m \u001b[0mmap\u001b[0m\u001b[0;34m(\u001b[0m\u001b[0mint\u001b[0m\u001b[0;34m,\u001b[0m \u001b[0mraw_input\u001b[0m\u001b[0;34m(\u001b[0m\u001b[0;34m)\u001b[0m\u001b[0;34m.\u001b[0m\u001b[0msplit\u001b[0m\u001b[0;34m(\u001b[0m\u001b[0;34m)\u001b[0m\u001b[0;34m)\u001b[0m\u001b[0;34m\u001b[0m\u001b[0m\n\u001b[1;32m      8\u001b[0m \u001b[0;34m\u001b[0m\u001b[0m\n\u001b[0;32m----> 9\u001b[0;31m     \u001b[0mfind_winner\u001b[0m\u001b[0;34m(\u001b[0m\u001b[0mcount_arr\u001b[0m\u001b[0;34m,\u001b[0m \u001b[0mgodzilla_army\u001b[0m\u001b[0;34m,\u001b[0m \u001b[0mmecha_godzilla_army\u001b[0m\u001b[0;34m)\u001b[0m\u001b[0;34m\u001b[0m\u001b[0m\n\u001b[0m",
      "\u001b[0;32m<ipython-input-10-0abedb8f7058>\u001b[0m in \u001b[0;36mfind_winner\u001b[0;34m(count_arr, godzilla_army, mecha_godzilla_army)\u001b[0m\n\u001b[1;32m      9\u001b[0m \u001b[0;34m\u001b[0m\u001b[0m\n\u001b[1;32m     10\u001b[0m     \u001b[0;32mwhile\u001b[0m \u001b[0mTrue\u001b[0m\u001b[0;34m:\u001b[0m\u001b[0;34m\u001b[0m\u001b[0m\n\u001b[0;32m---> 11\u001b[0;31m         \u001b[0;32mif\u001b[0m \u001b[0mgodzilla_army\u001b[0m\u001b[0;34m[\u001b[0m\u001b[0mi\u001b[0m\u001b[0;34m]\u001b[0m \u001b[0;34m<\u001b[0m \u001b[0mmecha_godzilla_army\u001b[0m\u001b[0;34m[\u001b[0m\u001b[0mj\u001b[0m\u001b[0;34m]\u001b[0m\u001b[0;34m:\u001b[0m\u001b[0;34m\u001b[0m\u001b[0m\n\u001b[0m\u001b[1;32m     12\u001b[0m             \u001b[0mi\u001b[0m \u001b[0;34m+=\u001b[0m \u001b[0;36m1\u001b[0m\u001b[0;34m\u001b[0m\u001b[0m\n\u001b[1;32m     13\u001b[0m             \u001b[0;32mif\u001b[0m \u001b[0mi\u001b[0m \u001b[0;34m==\u001b[0m \u001b[0mlen_godzilla_army\u001b[0m \u001b[0;34m-\u001b[0m \u001b[0;36m1\u001b[0m\u001b[0;34m:\u001b[0m\u001b[0;34m\u001b[0m\u001b[0m\n",
      "\u001b[0;31mIndexError\u001b[0m: list index out of range"
     ]
    }
   ],
   "source": [
    "no_test_cases = input()\n",
    "\n",
    "for i in range(0, no_test_cases):\n",
    "    raw_input()\n",
    "    count_arr = map(int, raw_input().split())\n",
    "    godzilla_army = map(int, raw_input().split())\n",
    "    mecha_godzilla_army = map(int, raw_input().split())\n",
    "    \n",
    "    find_winner(count_arr, godzilla_army, mecha_godzilla_army)"
   ]
  },
  {
   "cell_type": "code",
   "execution_count": null,
   "metadata": {
    "collapsed": true
   },
   "outputs": [],
   "source": []
  }
 ],
 "metadata": {
  "kernelspec": {
   "display_name": "Python 2",
   "language": "python",
   "name": "python2"
  },
  "language_info": {
   "codemirror_mode": {
    "name": "ipython",
    "version": 2
   },
   "file_extension": ".py",
   "mimetype": "text/x-python",
   "name": "python",
   "nbconvert_exporter": "python",
   "pygments_lexer": "ipython2",
   "version": "2.7.12"
  }
 },
 "nbformat": 4,
 "nbformat_minor": 1
}
