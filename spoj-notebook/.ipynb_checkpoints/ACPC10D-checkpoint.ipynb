{
 "cells": [
  {
   "cell_type": "code",
   "execution_count": null,
   "metadata": {
    "collapsed": true
   },
   "outputs": [],
   "source": [
    "count = 1\n",
    "while True:\n",
    "    no_rows = int(raw_input())\n",
    "\n",
    "    if no_rows == 0:\n",
    "        break\n",
    "\n",
    "    grid = [[None for x in range(3)] for y in range(2)]\n",
    "\n",
    "    input_arr = map(int, raw_input().split())\n",
    "\n",
    "    grid[0][0] = 100000000\n",
    "    grid[0][1] = input_arr[1]\n",
    "    grid[0][2] = input_arr[1] + input_arr[2]\n",
    "\n",
    "    r = 1\n",
    "    for i in range(0, no_rows-1):\n",
    "        input_arr = map(int, raw_input().split())\n",
    "        _r = r ^ 1\n",
    "        grid[r][0] = input_arr[0] + min(grid[_r][0], grid[_r][1])\n",
    "        grid[r][1] = input_arr[1] + min(min(grid[_r][0], grid[r][0]), min(grid[_r][1], grid[_r][2]))\n",
    "        grid[r][2] = input_arr[2] + min(min(grid[_r][1], grid[_r][2]), grid[r][1])\n",
    "\n",
    "        r = _r\n",
    "\n",
    "    print str(count) + \". \" + str(grid[(no_rows - 1) & 1][1])\n",
    "    count += 1\n"
   ]
  },
  {
   "cell_type": "code",
   "execution_count": null,
   "metadata": {
    "collapsed": true
   },
   "outputs": [],
   "source": []
  }
 ],
 "metadata": {
  "kernelspec": {
   "display_name": "Python 2",
   "language": "python",
   "name": "python2"
  },
  "language_info": {
   "codemirror_mode": {
    "name": "ipython",
    "version": 2
   },
   "file_extension": ".py",
   "mimetype": "text/x-python",
   "name": "python",
   "nbconvert_exporter": "python",
   "pygments_lexer": "ipython2",
   "version": "2.7.12"
  }
 },
 "nbformat": 4,
 "nbformat_minor": 1
}
