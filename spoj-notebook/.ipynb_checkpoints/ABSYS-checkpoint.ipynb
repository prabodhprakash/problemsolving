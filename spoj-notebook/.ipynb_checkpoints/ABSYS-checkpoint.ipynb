{
 "cells": [
  {
   "cell_type": "code",
   "execution_count": null,
   "metadata": {
    "collapsed": true
   },
   "outputs": [],
   "source": [
    "def find_missing(expression):\n",
    "    expression_arr = expression.split(\" \")\n",
    "    a = expression_arr[0]\n",
    "    b = expression_arr[2]\n",
    "    c = expression_arr[4]\n",
    "    \n",
    "    diff = 0\n",
    "    if a.isdigit():\n",
    "        if b.isdigit():\n",
    "            if c.isdigit():\n",
    "                pass\n",
    "            else:\n",
    "                diff = int(a) + int(b)\n",
    "                print a, \"+\", b, \"=\", diff \n",
    "        else:\n",
    "            diff = int(a) - int(b)\n",
    "            print a, \"+\", diff, \"=\", c\n",
    "    else:\n",
    "        diff = int(c) - int(b)\n",
    "        print diff, \"+\", b, \"=\", c\n",
    "        "
   ]
  }
 ],
 "metadata": {
  "kernelspec": {
   "display_name": "Python 2",
   "language": "python",
   "name": "python2"
  },
  "language_info": {
   "codemirror_mode": {
    "name": "ipython",
    "version": 2
   },
   "file_extension": ".py",
   "mimetype": "text/x-python",
   "name": "python",
   "nbconvert_exporter": "python",
   "pygments_lexer": "ipython2",
   "version": "2.7.12"
  }
 },
 "nbformat": 4,
 "nbformat_minor": 1
}
