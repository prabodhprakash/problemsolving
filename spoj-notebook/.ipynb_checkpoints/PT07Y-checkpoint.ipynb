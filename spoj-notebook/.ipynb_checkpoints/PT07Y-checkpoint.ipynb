{
 "cells": [
  {
   "cell_type": "code",
   "execution_count": 74,
   "metadata": {
    "collapsed": false
   },
   "outputs": [],
   "source": [
    "class Node:\n",
    "    node_number = None\n",
    "    neigbour = []\n",
    "    is_visited = False\n",
    "    \n",
    "    def __init__(self, _node_number):\n",
    "        self.node_number = _node_number\n",
    "        self.neigbour = []\n",
    "        self.is_visited = False"
   ]
  },
  {
   "cell_type": "code",
   "execution_count": 75,
   "metadata": {
    "collapsed": true
   },
   "outputs": [],
   "source": [
    "node_dict = {}\n",
    "non_visited_dict = {}"
   ]
  },
  {
   "cell_type": "code",
   "execution_count": 76,
   "metadata": {
    "collapsed": false
   },
   "outputs": [],
   "source": [
    "def has_cycle(current_node, parent_node):\n",
    "    current_node.is_visited = True\n",
    "    non_visited_dict[current_node] = '1'\n",
    "    \n",
    "    for i in range(0, len(current_node.neigbour)):\n",
    "        neigh_node = current_node.neigbour[i]\n",
    "        \n",
    "        if (neigh_node.is_visited == False):\n",
    "            if (has_cycle(neigh_node, current_node)):\n",
    "                return True\n",
    "        elif (parent_node is not None and neigh_node.node_number != parent_node.node_number):\n",
    "            return True\n",
    "        elif (parent_node is None and neigh_node.node_number == current_node.node_number):\n",
    "            return True\n",
    "    return False\n",
    "    "
   ]
  },
  {
   "cell_type": "code",
   "execution_count": 77,
   "metadata": {
    "collapsed": false
   },
   "outputs": [
    {
     "name": "stdout",
     "output_type": "stream",
     "text": [
      "3 1\n",
      "NO\n"
     ]
    }
   ],
   "source": [
    "graph_property = map(int, raw_input().split())\n",
    "\n",
    "no_nodes = graph_property[0]\n",
    "no_edges = graph_property[1]\n",
    "\n",
    "for i in range(0, no_nodes):\n",
    "    number = i + 1\n",
    "    node = Node(number)\n",
    "    node_dict[number] = node\n",
    "\n",
    "first_node = None\n",
    "\n",
    "if (no_edges == 0 and no_nodes == 1):\n",
    "    print \"YES\"\n",
    "if (no_edges == 0 and no_nodes > 1):\n",
    "    print \"NO\"\n",
    "elif (no_nodes != no_edges +1):\n",
    "    print \"NO\"\n",
    "else:\n",
    "    for i in range(0, no_edges):    \n",
    "        neighbour_arr = map(int, raw_input().split())    \n",
    "        a = neighbour_arr[0]\n",
    "        b = neighbour_arr[1]\n",
    "\n",
    "        node_a = node_dict[a]\n",
    "        node_b = node_dict[b]\n",
    "\n",
    "        if first_node is None: \n",
    "            first_node = node_a\n",
    "\n",
    "        node_a.neigbour.append(node_b)\n",
    "        node_b.neigbour.append(node_a)\n",
    "\n",
    "    has_cycle = has_cycle(first_node, None)\n",
    "    if has_cycle or len(non_visited_dict.keys()) != no_nodes:\n",
    "        print \"NO\"\n",
    "    else:\n",
    "        print \"YES\""
   ]
  },
  {
   "cell_type": "markdown",
   "metadata": {
    "collapsed": true
   },
   "source": [
    "# "
   ]
  },
  {
   "cell_type": "code",
   "execution_count": null,
   "metadata": {
    "collapsed": true
   },
   "outputs": [],
   "source": []
  },
  {
   "cell_type": "code",
   "execution_count": null,
   "metadata": {
    "collapsed": true
   },
   "outputs": [],
   "source": []
  }
 ],
 "metadata": {
  "kernelspec": {
   "display_name": "Python 2",
   "language": "python",
   "name": "python2"
  },
  "language_info": {
   "codemirror_mode": {
    "name": "ipython",
    "version": 2
   },
   "file_extension": ".py",
   "mimetype": "text/x-python",
   "name": "python",
   "nbconvert_exporter": "python",
   "pygments_lexer": "ipython2",
   "version": "2.7.12"
  }
 },
 "nbformat": 4,
 "nbformat_minor": 1
}
