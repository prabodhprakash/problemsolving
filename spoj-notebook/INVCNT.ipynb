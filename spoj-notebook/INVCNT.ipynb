{
 "cells": [
  {
   "cell_type": "code",
   "execution_count": 110,
   "metadata": {
    "collapsed": true
   },
   "outputs": [],
   "source": [
    "import math\n",
    "import sys"
   ]
  },
  {
   "cell_type": "code",
   "execution_count": 111,
   "metadata": {
    "collapsed": true
   },
   "outputs": [],
   "source": [
    "inversion_count = 0"
   ]
  },
  {
   "cell_type": "code",
   "execution_count": 112,
   "metadata": {
    "collapsed": false
   },
   "outputs": [],
   "source": [
    "def merge(a,b):\n",
    "    global inversion_count\n",
    "    \"\"\" Function to merge two arrays \"\"\"\n",
    "    c = []\n",
    "    while len(a) != 0 and len(b) != 0:\n",
    "        if a[0] <= b[0]:\n",
    "            c.append(a[0])\n",
    "            a.remove(a[0])\n",
    "        else:\n",
    "            inversion_count += len(a)\n",
    "            c.append(b[0])\n",
    "            b.remove(b[0])\n",
    "            \n",
    "    if len(a) == 0:\n",
    "        c += b\n",
    "    else:\n",
    "        c += a\n",
    "    return c"
   ]
  },
  {
   "cell_type": "code",
   "execution_count": 113,
   "metadata": {
    "collapsed": false
   },
   "outputs": [],
   "source": [
    "def merge_sort(arr):\n",
    "    len_arr = len(arr)\n",
    "    out_arr = []\n",
    "    if len_arr > 1:\n",
    "        mid = len_arr/2\n",
    "        left = merge_sort(arr[:mid])\n",
    "        right = merge_sort(arr[mid:])\n",
    "        out_arr = merge(left,right)\n",
    "        return out_arr\n",
    "    else:\n",
    "        return arr"
   ]
  },
  {
   "cell_type": "code",
   "execution_count": 114,
   "metadata": {
    "collapsed": false
   },
   "outputs": [],
   "source": [
    "def find_inv_count(arr):\n",
    "    global inversion_count\n",
    "    inversion_count = 0\n",
    "    sorted_arr = merge_sort(arr)\n",
    "    print inversion_count"
   ]
  },
  {
   "cell_type": "code",
   "execution_count": 115,
   "metadata": {
    "collapsed": false
   },
   "outputs": [
    {
     "name": "stdout",
     "output_type": "stream",
     "text": [
      "5\n",
      "0\n",
      "0\n",
      "0\n"
     ]
    }
   ],
   "source": [
    "find_inv_count([2, 3, 8, 6, 1])\n",
    "find_inv_count([2])\n",
    "find_inv_count([])\n",
    "find_inv_count([2, 2])"
   ]
  },
  {
   "cell_type": "code",
   "execution_count": 121,
   "metadata": {
    "collapsed": false
   },
   "outputs": [],
   "source": [
    "all = sys.stdin.readlines()\n",
    "\n",
    "start = True\n",
    "skip = False\n",
    "next_start = False\n",
    "input_ongoing = False\n",
    "current_input_count = 0\n",
    "current_i = 0\n",
    "arr = []\n",
    "for line in all:\n",
    "    if skip:\n",
    "        if (len(arr) > 0):\n",
    "            print arr\n",
    "            find_inv_count(arr)\n",
    "        arr = []\n",
    "        current_input_count = 0\n",
    "        current_i = 0\n",
    "        input_ongoing = False\n",
    "        skip = False\n",
    "        next_start = True\n",
    "        continue\n",
    "    elif start:\n",
    "        no_test_cases = int(line)\n",
    "        skip = True\n",
    "        start = False\n",
    "    elif next_start:\n",
    "        current_input_count = int(line)\n",
    "        print \"current input\", current_input_count\n",
    "        next_start = False\n",
    "        input_ongoing = True\n",
    "        continue\n",
    "    elif input_ongoing:\n",
    "        if current_i < current_input_count:\n",
    "            if current_i == current_input_count - 1:\n",
    "                skip = True\n",
    "            arr.append(int(line))\n",
    "            current_i += 1"
   ]
  },
  {
   "cell_type": "code",
   "execution_count": null,
   "metadata": {
    "collapsed": true
   },
   "outputs": [],
   "source": []
  }
 ],
 "metadata": {
  "kernelspec": {
   "display_name": "Python 2",
   "language": "python",
   "name": "python2"
  },
  "language_info": {
   "codemirror_mode": {
    "name": "ipython",
    "version": 2
   },
   "file_extension": ".py",
   "mimetype": "text/x-python",
   "name": "python",
   "nbconvert_exporter": "python",
   "pygments_lexer": "ipython2",
   "version": "2.7.12"
  }
 },
 "nbformat": 4,
 "nbformat_minor": 1
}
