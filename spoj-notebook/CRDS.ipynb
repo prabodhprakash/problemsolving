{
 "cells": [
  {
   "cell_type": "code",
   "execution_count": 19,
   "metadata": {
    "collapsed": false
   },
   "outputs": [
    {
     "name": "stdout",
     "output_type": "stream",
     "text": [
      "10\n",
      "0\n",
      "0\n",
      "1\n",
      "2\n",
      "2\n",
      "7\n",
      "3\n",
      "15\n",
      "4\n",
      "26\n",
      "5\n",
      "40\n",
      "6\n",
      "57\n",
      "7\n",
      "77\n",
      "8\n",
      "100\n",
      "9\n",
      "126\n"
     ]
    }
   ],
   "source": [
    "def solve(level):\n",
    "    sum_ = (level*(level +1) + ((level - 1) * level) / 2) % 1000007\n",
    "\n",
    "    print sum_\n",
    "\n",
    "\n",
    "for i in range(int(raw_input())):\n",
    "    solve(int(raw_input()))"
   ]
  },
  {
   "cell_type": "code",
   "execution_count": null,
   "metadata": {
    "collapsed": true
   },
   "outputs": [],
   "source": []
  }
 ],
 "metadata": {
  "kernelspec": {
   "display_name": "Python 2",
   "language": "python",
   "name": "python2"
  },
  "language_info": {
   "codemirror_mode": {
    "name": "ipython",
    "version": 2
   },
   "file_extension": ".py",
   "mimetype": "text/x-python",
   "name": "python",
   "nbconvert_exporter": "python",
   "pygments_lexer": "ipython2",
   "version": "2.7.12"
  }
 },
 "nbformat": 4,
 "nbformat_minor": 1
}
