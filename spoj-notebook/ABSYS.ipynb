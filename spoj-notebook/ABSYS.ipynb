{
 "cells": [
  {
   "cell_type": "code",
   "execution_count": 4,
   "metadata": {
    "collapsed": true
   },
   "outputs": [],
   "source": [
    "def find_missing(expression):\n",
    "    expression_arr = expression.split(\" \")\n",
    "    a = expression_arr[0]\n",
    "    b = expression_arr[2]\n",
    "    c = expression_arr[4]\n",
    "    \n",
    "    diff = 0\n",
    "    if a.isdigit():\n",
    "        if b.isdigit():\n",
    "            if c.isdigit():\n",
    "                pass\n",
    "            else:\n",
    "                diff = int(a) + int(b)\n",
    "                print a, \"+\", b, \"=\", diff \n",
    "        else:\n",
    "            diff = int(c) - int(a)\n",
    "            print a, \"+\", diff, \"=\", c\n",
    "    else:\n",
    "        diff = int(c) - int(b)\n",
    "        print diff, \"+\", b, \"=\", c\n",
    "        "
   ]
  },
  {
   "cell_type": "code",
   "execution_count": 5,
   "metadata": {
    "collapsed": false
   },
   "outputs": [
    {
     "name": "stdout",
     "output_type": "stream",
     "text": [
      "23 + 47 = 70\n"
     ]
    }
   ],
   "source": [
    "find_missing(\"23 + 47 = machula\")"
   ]
  },
  {
   "cell_type": "code",
   "execution_count": 6,
   "metadata": {
    "collapsed": false
   },
   "outputs": [
    {
     "name": "stdout",
     "output_type": "stream",
     "text": [
      "3247 + 502 = 3749\n"
     ]
    }
   ],
   "source": [
    "find_missing(\"3247 + 5machula2 = 3749\")"
   ]
  },
  {
   "cell_type": "code",
   "execution_count": 7,
   "metadata": {
    "collapsed": false
   },
   "outputs": [
    {
     "name": "stdout",
     "output_type": "stream",
     "text": [
      "1613 + 75425 = 77038\n"
     ]
    }
   ],
   "source": [
    "find_missing(\"machula13 + 75425 = 77038\")"
   ]
  },
  {
   "cell_type": "code",
   "execution_count": null,
   "metadata": {
    "collapsed": true
   },
   "outputs": [],
   "source": []
  }
 ],
 "metadata": {
  "kernelspec": {
   "display_name": "Python 2",
   "language": "python",
   "name": "python2"
  },
  "language_info": {
   "codemirror_mode": {
    "name": "ipython",
    "version": 2
   },
   "file_extension": ".py",
   "mimetype": "text/x-python",
   "name": "python",
   "nbconvert_exporter": "python",
   "pygments_lexer": "ipython2",
   "version": "2.7.12"
  }
 },
 "nbformat": 4,
 "nbformat_minor": 1
}
