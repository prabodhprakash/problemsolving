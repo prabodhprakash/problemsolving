{
 "cells": [
  {
   "cell_type": "code",
   "execution_count": 86,
   "metadata": {
    "collapsed": false
   },
   "outputs": [],
   "source": [
    "def total_number_of_rectangle(n):\n",
    "    return_value = n\n",
    "    \n",
    "    for i in range(2, int(math.ceil(math.sqrt(n))) + 1):\n",
    "        if pow(i,2) <= n:\n",
    "            return_value += 1\n",
    "            i2 = pow(i, 2)\n",
    "            remaining = (n - i2) if (n - i2) > 0 else 0\n",
    "        \n",
    "            return_value += remaining/i\n",
    "    \n",
    "    print return_value"
   ]
  },
  {
   "cell_type": "code",
   "execution_count": 87,
   "metadata": {
    "collapsed": false
   },
   "outputs": [
    {
     "name": "stdout",
     "output_type": "stream",
     "text": [
      "46884\n",
      "8\n"
     ]
    }
   ],
   "source": [
    "totalNumberOfRectanlge(10000)\n",
    "\n",
    "totalNumberOfRectanlge(6)"
   ]
  },
  {
   "cell_type": "code",
   "execution_count": null,
   "metadata": {
    "collapsed": true
   },
   "outputs": [],
   "source": []
  }
 ],
 "metadata": {
  "kernelspec": {
   "display_name": "Python 2",
   "language": "python",
   "name": "python2"
  },
  "language_info": {
   "codemirror_mode": {
    "name": "ipython",
    "version": 2
   },
   "file_extension": ".py",
   "mimetype": "text/x-python",
   "name": "python",
   "nbconvert_exporter": "python",
   "pygments_lexer": "ipython2",
   "version": "2.7.12"
  }
 },
 "nbformat": 4,
 "nbformat_minor": 1
}
