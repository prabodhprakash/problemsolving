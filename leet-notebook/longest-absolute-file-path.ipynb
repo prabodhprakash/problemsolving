{
 "cells": [
  {
   "cell_type": "code",
   "execution_count": 114,
   "metadata": {
    "collapsed": true
   },
   "outputs": [],
   "source": [
    "#one pass solution here: https://github.com/prabodhprakash/problemsolving/blob/master/leet-notebook/388.py",
    "input_string = \"dir\\n\\tsubdir1\\n\\t\\tfile1.ext\\n\\t\\tsubsubdir1\\n\\tsubdir2\\n\\t\\tsubsubdir2\\n\\t\\t\\tfile2.ext\""
   ]
  },
  {
   "cell_type": "code",
   "execution_count": 115,
   "metadata": {
    "collapsed": false
   },
   "outputs": [],
   "source": [
    "def find_max_length():\n",
    "    dirLengthIndex = []\n",
    "    dirNameIndex = []\n",
    "    max_length = -1\n",
    "    max_file = None\n",
    "    input_str_arr = input_string.split(\"\\n\")\n",
    "\n",
    "    for i in range(0, len(input_str_arr)):\n",
    "        curr = input_str_arr[i]\n",
    "\n",
    "        count_of_depth = curr.count(\"\\t\")\n",
    "\n",
    "        curr = curr.replace(\"\\t\", \"\")\n",
    "        curr_length = len(curr)\n",
    "\n",
    "        if \".\" in curr:\n",
    "            length = dirLengthIndex[count_of_depth-1] + curr_length + 1 if count_of_depth-1 >= 0 else curr_length\n",
    "            if length > max_length:\n",
    "                max_file = curr\n",
    "                max_length = length\n",
    "        else:\n",
    "            if count_of_depth > 0:\n",
    "                total_lentgh_of_dir = dirLengthIndex[count_of_depth - 1] + curr_length + 1\n",
    "                dirLengthIndex.insert(count_of_depth, total_lentgh_of_dir)\n",
    "                dirNameIndex.insert(count_of_depth, curr)\n",
    "            else:\n",
    "                dirLengthIndex.insert(count_of_depth, curr_length)\n",
    "                dirNameIndex.insert(count_of_depth, curr)\n",
    "    return max_length if max_length > 0 else 0"
   ]
  },
  {
   "cell_type": "code",
   "execution_count": 116,
   "metadata": {
    "collapsed": false
   },
   "outputs": [
    {
     "name": "stdout",
     "output_type": "stream",
     "text": [
      "32\n"
     ]
    }
   ],
   "source": [
    "print find_max_length()"
   ]
  },
  {
   "cell_type": "code",
   "execution_count": 117,
   "metadata": {
    "collapsed": true
   },
   "outputs": [],
   "source": [
    "class Solution(object):\n",
    "    def lengthLongestPath(self, input_string):\n",
    "        dirLengthIndex = []\n",
    "        dirNameIndex = []\n",
    "        max_length = -1\n",
    "        max_file = None\n",
    "        input_str_arr = input_string.split(\"\\n\")\n",
    "        \n",
    "        for i in range(0, len(input_str_arr)):\n",
    "            curr = input_str_arr[i]\n",
    "            \n",
    "            count_of_depth = curr.count(\"\\t\")\n",
    "            \n",
    "            curr = curr.replace(\"\\t\", \"\")\n",
    "            curr_length = len(curr)\n",
    "                              \n",
    "            if \".\" in curr:\n",
    "                length = dirLengthIndex[count_of_depth-1] + curr_length + 1 if count_of_depth-1 >= 0 else curr_length\n",
    "                if length > max_length:\n",
    "                    max_file = curr\n",
    "                    max_length = length\n",
    "            else:\n",
    "                if count_of_depth > 0:\n",
    "                    total_lentgh_of_dir = dirLengthIndex[count_of_depth - 1] + curr_length + 1\n",
    "                    dirLengthIndex.insert(count_of_depth, total_lentgh_of_dir)\n",
    "                    dirNameIndex.insert(count_of_depth, curr)\n",
    "                else:\n",
    "                    dirLengthIndex.insert(count_of_depth, curr_length)\n",
    "                    dirNameIndex.insert(count_of_depth, curr)\n",
    "        return max_length if max_length > 0 else 0"
   ]
  }
 ],
 "metadata": {
  "kernelspec": {
   "display_name": "Python 2",
   "language": "python",
   "name": "python2"
  },
  "language_info": {
   "codemirror_mode": {
    "name": "ipython",
    "version": 2
   },
   "file_extension": ".py",
   "mimetype": "text/x-python",
   "name": "python",
   "nbconvert_exporter": "python",
   "pygments_lexer": "ipython2",
   "version": "2.7.12"
  }
 },
 "nbformat": 4,
 "nbformat_minor": 1
}
