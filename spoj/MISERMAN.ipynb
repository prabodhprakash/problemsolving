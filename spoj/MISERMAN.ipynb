{
 "cells": [
  {
   "cell_type": "code",
   "execution_count": 11,
   "metadata": {
    "collapsed": false
   },
   "outputs": [],
   "source": [
    "def solve(grid, no_rows, no_columns):\n",
    "    w, h = no_columns, no_rows;\n",
    "    result_mat = [[5000000 for x in range(w)] for y in range(h)]\n",
    "    \n",
    "    result_mat[0] = grid[0]\n",
    "    \n",
    "    for row in range (0, no_rows-1):\n",
    "        for col in range(0, no_columns):\n",
    "            result_mat[row+1][col] = min(result_mat[row+1][col], grid[row+1][col] + result_mat[row][col])\n",
    "            if col+1 < no_columns:\n",
    "                result_mat[row+1][col+1] = min(result_mat[row+1][col+1], grid[row+1][col+1] + result_mat[row][col])\n",
    "            \n",
    "            if col-1 >= 0:\n",
    "                result_mat[row+1][col-1] = min(result_mat[row+1][col-1], grid[row+1][col-1] + result_mat[row][col])\n",
    "    \n",
    "    result = 5000000\n",
    "    for i in range(0, no_columns):\n",
    "        result = min(result, result_mat[no_rows-1][i])\n",
    "        \n",
    "    print result"
   ]
  },
  {
   "cell_type": "code",
   "execution_count": 12,
   "metadata": {
    "collapsed": false
   },
   "outputs": [
    {
     "name": "stdout",
     "output_type": "stream",
     "text": [
      "5 5\n",
      "1 3 1 2 6\n",
      "10 2  5  4  15\n",
      "10 9  6  7  1\n",
      "2  7  1  5  3\n",
      "8  2  6  1  9\n",
      "[[1, 3, 1, 2, 6], [11, 3, 6, 5, 17], [13, 12, 9, 12, 6], [14, 16, 10, 11, 9], [22, 12, 16, 10, 18]]\n",
      "10\n"
     ]
    }
   ],
   "source": [
    "props = map(int, raw_input().split())\n",
    "\n",
    "no_rows = props[0]\n",
    "no_columns = props[1]\n",
    "\n",
    "grid = [[None for x in range(no_columns)] for y in range(no_rows)] \n",
    "\n",
    "for i in range(0, no_rows):\n",
    "    bus = map(int, raw_input().split())\n",
    "    for j in range(0, no_columns):\n",
    "        grid[i][j] = bus[j]\n",
    "    \n",
    "solve(grid, no_rows, no_columns)"
   ]
  },
  {
   "cell_type": "code",
   "execution_count": null,
   "metadata": {
    "collapsed": true
   },
   "outputs": [],
   "source": []
  }
 ],
 "metadata": {
  "kernelspec": {
   "display_name": "Python 2",
   "language": "python",
   "name": "python2"
  },
  "language_info": {
   "codemirror_mode": {
    "name": "ipython",
    "version": 2
   },
   "file_extension": ".py",
   "mimetype": "text/x-python",
   "name": "python",
   "nbconvert_exporter": "python",
   "pygments_lexer": "ipython2",
   "version": "2.7.12"
  }
 },
 "nbformat": 4,
 "nbformat_minor": 1
}
