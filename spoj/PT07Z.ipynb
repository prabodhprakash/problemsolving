{
 "cells": [
  {
   "cell_type": "code",
   "execution_count": null,
   "metadata": {
    "collapsed": true
   },
   "outputs": [],
   "source": [
    "class Node:\n",
    "    node_number = None\n",
    "    neigbour = []\n",
    "    is_visited = False\n",
    "    max_distance_from_leaf = 0\n",
    "    all_distances = []\n",
    "    \n",
    "    def __init__(self, _node_number):\n",
    "        self.node_number = _node_number\n",
    "        self.neigbour = []\n",
    "        self.all_distances = []\n",
    "        self.is_visited = False"
   ]
  },
  {
   "cell_type": "code",
   "execution_count": null,
   "metadata": {
    "collapsed": false
   },
   "outputs": [],
   "source": [
    "def dfs(start_node):\n",
    "    start_node.is_visited = True\n",
    "    \n",
    "    for i in range(0, len(start_node.neigbour)):\n",
    "        neigh_node = start_node.neigbour[i]\n",
    "        if not neigh_node.is_visited:\n",
    "            dist_from_neigh = dfs(neigh_node)\n",
    "            start_node.all_distances.append(dist_from_neigh)\n",
    "            start_node.max_distance_from_leaf = max(start_node.max_distance_from_leaf, dist_from_neigh)\n",
    "        \n",
    "    return 1 + start_node.max_distance_from_leaf"
   ]
  },
  {
   "cell_type": "code",
   "execution_count": null,
   "metadata": {
    "collapsed": false
   },
   "outputs": [],
   "source": [
    "node_dict = {}\n",
    "\n",
    "no_nodes = int(raw_input())\n",
    "\n",
    "for i in range(0, no_nodes):\n",
    "    number = i + 1\n",
    "    node = Node(number)\n",
    "    node_dict[number] = node\n",
    "    \n",
    "node_start = None\n",
    "\n",
    "for i in range(0, no_nodes-1):\n",
    "    neighs = map(int, raw_input().split())\n",
    "    \n",
    "    a = neighs[0]\n",
    "    b = neighs[1]\n",
    "    \n",
    "    node_a = node_dict[a]\n",
    "    \n",
    "    if node_start is None:\n",
    "        node_start = node_a\n",
    "        \n",
    "    node_b = node_dict[b]\n",
    "    \n",
    "    node_a.neigbour.append(node_b)\n",
    "    node_b.neigbour.append(node_a)\n",
    "\n",
    "if no_nodes == 0 or no_nodes == 1:\n",
    "    print 0\n",
    "elif no_nodes == 2:\n",
    "    print 1\n",
    "else:\n",
    "    dfs(node_start)\n",
    "    \n",
    "    max_dist = 0\n",
    "    \n",
    "    for i in range (0, no_nodes):\n",
    "        curr_node = node_dict[i+1]\n",
    "        curr_node.all_distances.sort(reverse=True)\n",
    "        if len(curr_node.all_distances) == 1:\n",
    "            max_dist = max(max_dist, curr_node.all_distances[0])\n",
    "        elif len(curr_node.all_distances) > 1:\n",
    "            max_dist = max(max_dist, curr_node.all_distances[0] + curr_node.all_distances[1])\n",
    "    \n",
    "    print max_dist"
   ]
  },
  {
   "cell_type": "markdown",
   "metadata": {},
   "source": [
    "## "
   ]
  }
 ],
 "metadata": {
  "kernelspec": {
   "display_name": "Python 2",
   "language": "python",
   "name": "python2"
  },
  "language_info": {
   "codemirror_mode": {
    "name": "ipython",
    "version": 2
   },
   "file_extension": ".py",
   "mimetype": "text/x-python",
   "name": "python",
   "nbconvert_exporter": "python",
   "pygments_lexer": "ipython2",
   "version": "2.7.12"
  }
 },
 "nbformat": 4,
 "nbformat_minor": 1
}
