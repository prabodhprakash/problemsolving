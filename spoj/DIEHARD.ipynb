{
 "cells": [
  {
   "cell_type": "code",
   "execution_count": null,
   "metadata": {
    "collapsed": true
   },
   "outputs": [],
   "source": [
    "no_test_cases = int(raw_input())\n",
    "\n",
    "for i in range(0, no_test_cases):\n",
    "    initial_health_arr = map(int, raw_input().split())\n",
    "\n",
    "    h = initial_health_arr[0]\n",
    "    a = initial_health_arr[1]\n",
    "\n",
    "    survival_count = 0\n",
    "\n",
    "    while True:\n",
    "        if h <= 0 or a <= 0:\n",
    "            break\n",
    "\n",
    "        if a - 3 < 10 and h - 17 > 0:\n",
    "            h -= 17\n",
    "            a += 7\n",
    "        else:\n",
    "            h -= 2\n",
    "            a -= 8\n",
    "        survival_count += 2\n",
    "        # print \"h: \", h, \" a: \", a, \" survival: \", survival_count\n",
    "\n",
    "    print survival_count - 1"
   ]
  }
 ],
 "metadata": {
  "kernelspec": {
   "display_name": "Python 2",
   "language": "python",
   "name": "python2"
  },
  "language_info": {
   "codemirror_mode": {
    "name": "ipython",
    "version": 2
   },
   "file_extension": ".py",
   "mimetype": "text/x-python",
   "name": "python",
   "nbconvert_exporter": "python",
   "pygments_lexer": "ipython2",
   "version": "2.7.12"
  }
 },
 "nbformat": 4,
 "nbformat_minor": 1
}
