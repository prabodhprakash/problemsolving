{
 "cells": [
  {
   "cell_type": "code",
   "execution_count": 41,
   "metadata": {
    "collapsed": true
   },
   "outputs": [],
   "source": [
    "def find_min_edit(wordA, wordB):\n",
    "    lengthA = len(wordA)\n",
    "    lengthB = len(wordB)\n",
    "    \n",
    "    matAB = [[0 for x in range(lengthA + 1)] for y in range(lengthB + 1)]\n",
    "    \n",
    "    for i in range(lengthA + 1):\n",
    "        matAB[0][i] = i\n",
    "    \n",
    "    for i in range(lengthB + 1):\n",
    "        matAB[i][0] = i\n",
    "    \n",
    "    for i in range(1, lengthB + 1):\n",
    "        for j in range (1, lengthA + 1):\n",
    "            if wordA[j-1] == wordB[i-1]:\n",
    "                matAB[i][j] = matAB[i-1][j-1]\n",
    "            else:\n",
    "                matAB[i][j] = min(matAB[i][j-1], matAB[i-1][j-1], matAB[i-1][j]) + 1\n",
    "                \n",
    "    print matAB[lengthB][lengthA]"
   ]
  },
  {
   "cell_type": "code",
   "execution_count": 42,
   "metadata": {
    "collapsed": false
   },
   "outputs": [
    {
     "name": "stdout",
     "output_type": "stream",
     "text": [
      "1\n",
      "A\n",
      "A\n",
      "0\n"
     ]
    }
   ],
   "source": [
    "no_test_cases = int(raw_input())\n",
    "\n",
    "for i in range(no_test_cases):\n",
    "    wordA = str(raw_input())\n",
    "    wordB = str(raw_input())\n",
    "    \n",
    "    find_min_edit(wordA, wordB)"
   ]
  },
  {
   "cell_type": "code",
   "execution_count": null,
   "metadata": {
    "collapsed": true
   },
   "outputs": [],
   "source": []
  },
  {
   "cell_type": "code",
   "execution_count": null,
   "metadata": {
    "collapsed": true
   },
   "outputs": [],
   "source": []
  }
 ],
 "metadata": {
  "kernelspec": {
   "display_name": "Python 2",
   "language": "python",
   "name": "python2"
  },
  "language_info": {
   "codemirror_mode": {
    "name": "ipython",
    "version": 2
   },
   "file_extension": ".py",
   "mimetype": "text/x-python",
   "name": "python",
   "nbconvert_exporter": "python",
   "pygments_lexer": "ipython2",
   "version": "2.7.12"
  }
 },
 "nbformat": 4,
 "nbformat_minor": 1
}
