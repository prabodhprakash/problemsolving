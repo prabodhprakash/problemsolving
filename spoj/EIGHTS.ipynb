{
 "cells": [
  {
   "cell_type": "code",
   "execution_count": 4,
   "metadata": {
    "collapsed": true
   },
   "outputs": [],
   "source": [
    "import math"
   ]
  },
  {
   "cell_type": "code",
   "execution_count": 37,
   "metadata": {
    "collapsed": false
   },
   "outputs": [],
   "source": [
    "def triple_fat(n):\n",
    "    if n == 1:\n",
    "        return 192\n",
    "    if n == 2:\n",
    "        return 442\n",
    "    if n == 3:\n",
    "        return 692\n",
    "    if n == 4:\n",
    "        return 942\n",
    "    \n",
    "    n -= 4 \n",
    "    \n",
    "    prefix = int(math.ceil(n/4.0))\n",
    "    \n",
    "    if n%4 == 1:\n",
    "        return int(str(prefix) + \"142\")\n",
    "    elif n%4 == 2:\n",
    "        return int(str(prefix) + \"492\")\n",
    "    elif n%4 == 3:\n",
    "        return int(str(prefix) + \"692\")\n",
    "    elif n%4 == 0:\n",
    "        return int(str(prefix) + \"942\")"
   ]
  },
  {
   "cell_type": "code",
   "execution_count": 38,
   "metadata": {
    "collapsed": false
   },
   "outputs": [
    {
     "name": "stdout",
     "output_type": "stream",
     "text": [
      "1 \t:  192\n",
      "2 \t:  442\n",
      "3 \t:  692\n",
      "4 \t:  942\n",
      "5 \t:  1142\n",
      "6 \t:  1492\n",
      "7 \t:  1692\n",
      "8 \t:  1942\n",
      "9 \t:  2142\n",
      "10 \t:  2492\n",
      "11 \t:  2692\n",
      "12 \t:  2942\n",
      "13 \t:  3142\n",
      "14 \t:  3492\n",
      "15 \t:  3692\n",
      "16 \t:  3942\n",
      "17 \t:  4142\n",
      "18 \t:  4492\n",
      "19 \t:  4692\n",
      "20 \t:  4942\n",
      "21 \t:  5142\n",
      "22 \t:  5492\n",
      "23 \t:  5692\n",
      "24 \t:  5942\n",
      "25 \t:  6142\n",
      "26 \t:  6492\n",
      "27 \t:  6692\n",
      "28 \t:  6942\n",
      "29 \t:  7142\n",
      "30 \t:  7492\n",
      "31 \t:  7692\n",
      "32 \t:  7942\n",
      "33 \t:  8142\n",
      "34 \t:  8492\n",
      "35 \t:  8692\n",
      "36 \t:  8942\n",
      "37 \t:  9142\n",
      "38 \t:  9492\n",
      "39 \t:  9692\n",
      "40 \t:  9942\n",
      "41 \t:  10142\n",
      "42 \t:  10492\n",
      "43 \t:  10692\n",
      "44 \t:  10942\n",
      "45 \t:  11142\n",
      "46 \t:  11492\n",
      "47 \t:  11692\n",
      "48 \t:  11942\n",
      "49 \t:  12142\n",
      "50 \t:  12492\n",
      "51 \t:  12692\n",
      "52 \t:  12942\n",
      "53 \t:  13142\n",
      "54 \t:  13492\n",
      "55 \t:  13692\n",
      "56 \t:  13942\n",
      "57 \t:  14142\n",
      "58 \t:  14492\n",
      "59 \t:  14692\n",
      "60 \t:  14942\n",
      "61 \t:  15142\n",
      "62 \t:  15492\n",
      "63 \t:  15692\n",
      "64 \t:  15942\n",
      "65 \t:  16142\n",
      "66 \t:  16492\n",
      "67 \t:  16692\n",
      "68 \t:  16942\n",
      "69 \t:  17142\n",
      "70 \t:  17492\n",
      "71 \t:  17692\n",
      "72 \t:  17942\n",
      "73 \t:  18142\n",
      "74 \t:  18492\n",
      "75 \t:  18692\n",
      "76 \t:  18942\n",
      "77 \t:  19142\n",
      "78 \t:  19492\n",
      "79 \t:  19692\n",
      "80 \t:  19942\n",
      "81 \t:  20142\n",
      "82 \t:  20492\n",
      "83 \t:  20692\n",
      "84 \t:  20942\n",
      "85 \t:  21142\n",
      "86 \t:  21492\n",
      "87 \t:  21692\n",
      "88 \t:  21942\n",
      "89 \t:  22142\n",
      "90 \t:  22492\n",
      "91 \t:  22692\n",
      "92 \t:  22942\n",
      "93 \t:  23142\n",
      "94 \t:  23492\n",
      "95 \t:  23692\n",
      "96 \t:  23942\n",
      "97 \t:  24142\n",
      "98 \t:  24492\n",
      "99 \t:  24692\n",
      "100 \t:  24942\n"
     ]
    }
   ],
   "source": [
    "for i in range(1, 101):\n",
    "    print i, \"\\t: \", triple_fat(i)"
   ]
  },
  {
   "cell_type": "code",
   "execution_count": 34,
   "metadata": {
    "collapsed": false
   },
   "outputs": [
    {
     "name": "stdout",
     "output_type": "stream",
     "text": [
      "192\n",
      "442\n",
      "692\n",
      "942\n"
     ]
    }
   ],
   "source": [
    "for i in range(100, 1000):\n",
    "    cube = math.pow(i,3)\n",
    "    if str(int(cube))[-3:] == \"888\":\n",
    "        print i"
   ]
  },
  {
   "cell_type": "code",
   "execution_count": null,
   "metadata": {
    "collapsed": true
   },
   "outputs": [],
   "source": []
  }
 ],
 "metadata": {
  "kernelspec": {
   "display_name": "Python 2",
   "language": "python",
   "name": "python2"
  },
  "language_info": {
   "codemirror_mode": {
    "name": "ipython",
    "version": 2
   },
   "file_extension": ".py",
   "mimetype": "text/x-python",
   "name": "python",
   "nbconvert_exporter": "python",
   "pygments_lexer": "ipython2",
   "version": "2.7.12"
  }
 },
 "nbformat": 4,
 "nbformat_minor": 1
}
