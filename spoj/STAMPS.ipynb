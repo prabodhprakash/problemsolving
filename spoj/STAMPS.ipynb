{
 "cells": [
  {
   "cell_type": "code",
   "execution_count": 14,
   "metadata": {
    "collapsed": false
   },
   "outputs": [],
   "source": [
    "def minimum_friends_needed(input_count, stamps_needed, total_friends, friends_stamp_arr):\n",
    "    friends_stamp_arr.sort(reverse=True)\n",
    "    \n",
    "    count_of_friends_needed = 0\n",
    "    \n",
    "    for i in range(0, len(friends_stamp_arr)):\n",
    "        count_of_friends_needed += 1\n",
    "        current_friend_stamp_count = friends_stamp_arr[i]\n",
    "        stamps_needed -= current_friend_stamp_count\n",
    "        \n",
    "        if stamps_needed <= 0:\n",
    "            break\n",
    "    \n",
    "    print \"Scenario #\" + str(input_count) + \":\"\n",
    "    print count_of_friends_needed if stamps_needed <= 0 else \"impossible\"\n",
    "    print"
   ]
  },
  {
   "cell_type": "code",
   "execution_count": 15,
   "metadata": {
    "collapsed": false
   },
   "outputs": [
    {
     "name": "stdout",
     "output_type": "stream",
     "text": [
      "1\n",
      "100 6\n",
      "13 17 42 9 23 57\n",
      "Scenario #1:\n",
      "3\n",
      "\n"
     ]
    }
   ],
   "source": [
    "no_test_cases = input()\n",
    "\n",
    "for i in range(0, no_test_cases):\n",
    "    line_1_arr = map(int, raw_input().split())\n",
    "    stamps_needed = line_1_arr[0]\n",
    "    total_friends = line_1_arr[1]\n",
    "    friends_stamp_arr = map(int, raw_input().split())\n",
    "    minimum_friends_needed(i+1, stamps_needed, total_friends, friends_stamp_arr)"
   ]
  },
  {
   "cell_type": "code",
   "execution_count": null,
   "metadata": {
    "collapsed": true
   },
   "outputs": [],
   "source": []
  },
  {
   "cell_type": "code",
   "execution_count": null,
   "metadata": {
    "collapsed": true
   },
   "outputs": [],
   "source": []
  }
 ],
 "metadata": {
  "kernelspec": {
   "display_name": "Python 2",
   "language": "python",
   "name": "python2"
  },
  "language_info": {
   "codemirror_mode": {
    "name": "ipython",
    "version": 2
   },
   "file_extension": ".py",
   "mimetype": "text/x-python",
   "name": "python",
   "nbconvert_exporter": "python",
   "pygments_lexer": "ipython2",
   "version": "2.7.12"
  }
 },
 "nbformat": 4,
 "nbformat_minor": 1
}
