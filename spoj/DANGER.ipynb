{
 "cells": [
  {
   "cell_type": "code",
   "execution_count": null,
   "metadata": {
    "collapsed": true
   },
   "outputs": [],
   "source": [
    "import math\n",
    "\n",
    "sum_arr = [None]*27\n",
    "initial_sum = 1\n",
    "sum_arr[0] = 1\n",
    "\n",
    "for i in range(1, 27):\n",
    "    sum_arr[i] = 1 + 2*sum_arr[i-1]\n",
    "\n",
    "while True:\n",
    "    input_param = raw_input()\n",
    "\n",
    "    if input_param == \"00e0\":\n",
    "        break\n",
    "\n",
    "    tens_value = int(input_param[0])*10\n",
    "    ones_value = int(input_param[1]) * 1\n",
    "\n",
    "    num = tens_value + ones_value\n",
    "\n",
    "    zeros_count = int(input_param[3])\n",
    "\n",
    "    num *= math.pow(10, zeros_count)\n",
    "\n",
    "    log_val = int(math.log(num, 2))\n",
    "\n",
    "    output = sum_arr[log_val] - 2 * (sum_arr[log_val] - num)\n",
    "\n",
    "    print int(output)"
   ]
  }
 ],
 "metadata": {
  "kernelspec": {
   "display_name": "Python 2",
   "language": "python",
   "name": "python2"
  },
  "language_info": {
   "codemirror_mode": {
    "name": "ipython",
    "version": 2
   },
   "file_extension": ".py",
   "mimetype": "text/x-python",
   "name": "python",
   "nbconvert_exporter": "python",
   "pygments_lexer": "ipython2",
   "version": "2.7.12"
  }
 },
 "nbformat": 4,
 "nbformat_minor": 1
}
