{
 "cells": [
  {
   "cell_type": "code",
   "execution_count": 10,
   "metadata": {
    "collapsed": false
   },
   "outputs": [
    {
     "name": "stdout",
     "output_type": "stream",
     "text": [
      "2 3 5\n"
     ]
    },
    {
     "ename": "TypeError",
     "evalue": "'int' object is not callable",
     "output_type": "error",
     "traceback": [
      "\u001b[0;31m---------------------------------------------------------------------------\u001b[0m",
      "\u001b[0;31mTypeError\u001b[0m                                 Traceback (most recent call last)",
      "\u001b[0;32m<ipython-input-10-dad0597cde2d>\u001b[0m in \u001b[0;36m<module>\u001b[0;34m()\u001b[0m\n\u001b[1;32m     19\u001b[0m         \u001b[0mval_c\u001b[0m \u001b[0;34m=\u001b[0m \u001b[0mi\u001b[0m \u001b[0;34m-\u001b[0m \u001b[0ml\u001b[0m\u001b[0;34m\u001b[0m\u001b[0m\n\u001b[1;32m     20\u001b[0m \u001b[0;34m\u001b[0m\u001b[0m\n\u001b[0;32m---> 21\u001b[0;31m         \u001b[0mmin_val\u001b[0m \u001b[0;34m=\u001b[0m \u001b[0mmin\u001b[0m\u001b[0;34m(\u001b[0m\u001b[0mmin\u001b[0m\u001b[0;34m(\u001b[0m\u001b[0mval_a\u001b[0m\u001b[0;34m,\u001b[0m \u001b[0mval_b\u001b[0m\u001b[0;34m)\u001b[0m\u001b[0;34m,\u001b[0m \u001b[0mval_c\u001b[0m\u001b[0;34m)\u001b[0m\u001b[0;34m\u001b[0m\u001b[0m\n\u001b[0m\u001b[1;32m     22\u001b[0m \u001b[0;34m\u001b[0m\u001b[0m\n\u001b[1;32m     23\u001b[0m         \u001b[0;32mif\u001b[0m \u001b[0mmin_val\u001b[0m \u001b[0;34m==\u001b[0m \u001b[0;36m1\u001b[0m\u001b[0;34m:\u001b[0m\u001b[0;34m\u001b[0m\u001b[0m\n",
      "\u001b[0;31mTypeError\u001b[0m: 'int' object is not callable"
     ]
    }
   ],
   "source": [
    "import sys\n",
    "grundy_dict = {0 : 0, k : k, l : l, 1: 1}\n",
    "    \n",
    "props = map(int, raw_input().split())\n",
    "k = props[0]\n",
    "l = props[1]\n",
    "m = props[2]\n",
    "\n",
    "i = 1\n",
    "\n",
    "recurse_value = -1\n",
    "min = sys.maxint\n",
    "while True: \n",
    "    if i not in grundy_dict:\n",
    "        i += 1\n",
    "    else:\n",
    "        val_a = i - 1\n",
    "        val_b = i - k\n",
    "        val_c = i - l\n",
    "        \n",
    "        min_val = min(min(val_a, val_b), val_c)\n",
    "        \n",
    "        if min_val == 1:\n",
    "            grund_dict[i] = 0\n",
    "            recurse_value = i\n",
    "            break\n",
    "        elif min_val > 0:\n",
    "            grund_dict[i] = min_val - 1\n",
    "\n",
    "games_arr = map(int, raw_input().split())\n",
    "\n",
    "str_ = \"\"\n",
    "\n",
    "for index in range(0, len(games_arr)):\n",
    "    curr_n = games_arr[index]\n",
    "    if curr_n == 1 or curr_n == k or curr_n == l:\n",
    "        str_ += \"A\"\n",
    "    elif curr_n < l:\n",
    "        str_ += \"B\"\n",
    "    else:\n",
    "        if curr_n % recurse_value == 0:\n",
    "            str_ += \"B\"\n",
    "        else:\n",
    "            str_ += \"A\"\n",
    "\n",
    "print str_\n",
    "    \n",
    "            \n",
    "            \n",
    "            "
   ]
  },
  {
   "cell_type": "code",
   "execution_count": null,
   "metadata": {
    "collapsed": true
   },
   "outputs": [],
   "source": []
  }
 ],
 "metadata": {
  "kernelspec": {
   "display_name": "Python 2",
   "language": "python",
   "name": "python2"
  },
  "language_info": {
   "codemirror_mode": {
    "name": "ipython",
    "version": 2
   },
   "file_extension": ".py",
   "mimetype": "text/x-python",
   "name": "python",
   "nbconvert_exporter": "python",
   "pygments_lexer": "ipython2",
   "version": "2.7.12"
  }
 },
 "nbformat": 4,
 "nbformat_minor": 1
}
