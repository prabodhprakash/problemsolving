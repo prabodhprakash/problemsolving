{
 "cells": [
  {
   "cell_type": "code",
   "execution_count": 24,
   "metadata": {
    "collapsed": false
   },
   "outputs": [],
   "source": [
    "def find_if_ambiguous(arr, length):\n",
    "    is_ambigious = True\n",
    "    for i in range(0, length):\n",
    "        i_element = arr[i]\n",
    "        \n",
    "        if arr[i_element -1] != i+1:\n",
    "            is_ambigious = False\n",
    "            break;\n",
    "    \n",
    "    print \"ambiguous\" if is_ambigious else \"not ambiguous\""
   ]
  },
  {
   "cell_type": "code",
   "execution_count": 25,
   "metadata": {
    "collapsed": false
   },
   "outputs": [
    {
     "name": "stdout",
     "output_type": "stream",
     "text": [
      "10\n",
      "3 8 5 10 9 4 6 1 7 2\n",
      "not ambiguous\n",
      "4\n",
      "1 4 3 2\n",
      "ambiguous\n",
      "5\n",
      "2 3 4 5 1\n",
      "not ambiguous\n",
      "1\n",
      "1\n",
      "ambiguous\n",
      "0\n"
     ]
    }
   ],
   "source": [
    "while True:\n",
    "    count = input()\n",
    "    \n",
    "    if (count == 0):\n",
    "        break\n",
    "        \n",
    "    int_arr = map(int, raw_input().split())\n",
    "    find_if_ambiguous(int_arr, count)\n",
    "    "
   ]
  },
  {
   "cell_type": "code",
   "execution_count": null,
   "metadata": {
    "collapsed": true
   },
   "outputs": [],
   "source": []
  }
 ],
 "metadata": {
  "kernelspec": {
   "display_name": "Python 2",
   "language": "python",
   "name": "python2"
  },
  "language_info": {
   "codemirror_mode": {
    "name": "ipython",
    "version": 2
   },
   "file_extension": ".py",
   "mimetype": "text/x-python",
   "name": "python",
   "nbconvert_exporter": "python",
   "pygments_lexer": "ipython2",
   "version": "2.7.12"
  }
 },
 "nbformat": 4,
 "nbformat_minor": 1
}
