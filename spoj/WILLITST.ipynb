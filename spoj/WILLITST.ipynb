{
 "cells": [
  {
   "cell_type": "code",
   "execution_count": 11,
   "metadata": {
    "collapsed": false
   },
   "outputs": [],
   "source": [
    "def will_it_stop(n):\n",
    "    while n > 1:\n",
    "        print n\n",
    "        if n%2 is 0:\n",
    "            n = n/2\n",
    "        else:\n",
    "            n = 3*n + 3"
   ]
  },
  {
   "cell_type": "code",
   "execution_count": 3,
   "metadata": {
    "collapsed": false
   },
   "outputs": [],
   "source": [
    "def is_power_of_two(n):\n",
    "    return n&(n-1)"
   ]
  },
  {
   "cell_type": "code",
   "execution_count": 4,
   "metadata": {
    "collapsed": false,
    "scrolled": true
   },
   "outputs": [
    {
     "name": "stdout",
     "output_type": "stream",
     "text": [
      "0\n",
      "0\n",
      "0\n",
      "0\n",
      "0\n",
      "0\n",
      "0\n",
      "2\n",
      "4\n",
      "6\n",
      "12\n",
      "8\n",
      "16\n"
     ]
    }
   ],
   "source": [
    "print is_power_of_two(2)\n",
    "print is_power_of_two(4)\n",
    "print is_power_of_two(8)\n",
    "print is_power_of_two(16)\n",
    "print is_power_of_two(32)\n",
    "print is_power_of_two(64)\n",
    "print is_power_of_two(128)\n",
    "print is_power_of_two(3)\n",
    "print is_power_of_two(6)\n",
    "print is_power_of_two(7)\n",
    "print is_power_of_two(14)\n",
    "print is_power_of_two(9)\n",
    "print is_power_of_two(18)"
   ]
  },
  {
   "cell_type": "code",
   "execution_count": 7,
   "metadata": {
    "collapsed": true
   },
   "outputs": [],
   "source": [
    "def will_it_ever_stop(n):\n",
    "    print \"TAK\" if (n&(n-1)) == 0  else \"NIE\""
   ]
  },
  {
   "cell_type": "code",
   "execution_count": 8,
   "metadata": {
    "collapsed": false
   },
   "outputs": [
    {
     "name": "stdout",
     "output_type": "stream",
     "text": [
      "NIE\n",
      "None\n",
      "TAK\n",
      "None\n",
      "TAK\n",
      "None\n",
      "TAK\n",
      "None\n",
      "TAK\n",
      "None\n",
      "TAK\n",
      "None\n",
      "TAK\n",
      "None\n",
      "TAK\n",
      "None\n",
      "TAK\n",
      "None\n",
      "NIE\n",
      "None\n",
      "NIE\n",
      "None\n",
      "NIE\n",
      "None\n",
      "NIE\n",
      "None\n",
      "NIE\n",
      "None\n",
      "NIE\n",
      "None\n"
     ]
    }
   ],
   "source": [
    "print will_it_ever_stop(100000000000000)\n",
    "print will_it_ever_stop(1)\n",
    "print will_it_ever_stop(2)\n",
    "print will_it_ever_stop(4)\n",
    "print will_it_ever_stop(8)\n",
    "print will_it_ever_stop(16)\n",
    "print will_it_ever_stop(32)\n",
    "print will_it_ever_stop(64)\n",
    "print will_it_ever_stop(128)\n",
    "print will_it_ever_stop(3)\n",
    "print will_it_ever_stop(6)\n",
    "print will_it_ever_stop(7)\n",
    "print will_it_ever_stop(14)\n",
    "print will_it_ever_stop(9)\n",
    "print will_it_ever_stop(18)"
   ]
  },
  {
   "cell_type": "code",
   "execution_count": null,
   "metadata": {
    "collapsed": true
   },
   "outputs": [],
   "source": []
  }
 ],
 "metadata": {
  "kernelspec": {
   "display_name": "Python 2",
   "language": "python",
   "name": "python2"
  },
  "language_info": {
   "codemirror_mode": {
    "name": "ipython",
    "version": 2
   },
   "file_extension": ".py",
   "mimetype": "text/x-python",
   "name": "python",
   "nbconvert_exporter": "python",
   "pygments_lexer": "ipython2",
   "version": "2.7.12"
  }
 },
 "nbformat": 4,
 "nbformat_minor": 1
}
