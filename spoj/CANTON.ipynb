{
 "cells": [
  {
   "cell_type": "code",
   "execution_count": 82,
   "metadata": {
    "collapsed": false
   },
   "outputs": [],
   "source": [
    "rational_series_num = []\n",
    "rational_series_den = []\n",
    "rational_series_num.insert(0, 1)\n",
    "rational_series_den.insert(0, 1)"
   ]
  },
  {
   "cell_type": "code",
   "execution_count": 83,
   "metadata": {
    "collapsed": true
   },
   "outputs": [],
   "source": [
    "def create_rational_series(max):\n",
    "    series = \"R\"\n",
    "    for i in range(1, max):\n",
    "        numerator = rational_series_num[i-1]\n",
    "        denominator = rational_series_den[i-1]\n",
    "        \n",
    "        curr = None\n",
    "        if series == \"D\":\n",
    "            num_int = numerator + 1\n",
    "            den_int = denominator\n",
    "            series = \"DUP\"\n",
    "        elif series == \"R\":\n",
    "            num_int = 1\n",
    "            den_int = denominator + 1\n",
    "            series = \"DWN\"\n",
    "        elif series == \"DWN\":\n",
    "            num_int = numerator + 1\n",
    "            den_int = denominator - 1\n",
    "            \n",
    "            if den_int == 1:\n",
    "                series = \"D\"\n",
    "        elif series == \"DUP\":\n",
    "            num_int = numerator - 1\n",
    "            den_int = denominator + 1\n",
    "            \n",
    "            if num_int == 1:\n",
    "                series = \"R\"\n",
    "                \n",
    "        rational_series_num.insert(i, num_int)\n",
    "        rational_series_den.insert(i, den_int)\n",
    "            "
   ]
  },
  {
   "cell_type": "code",
   "execution_count": 84,
   "metadata": {
    "collapsed": false
   },
   "outputs": [
    {
     "name": "stdout",
     "output_type": "stream",
     "text": [
      "CPU times: user 7.79 s, sys: 143 ms, total: 7.94 s\n",
      "Wall time: 7.96 s\n"
     ]
    }
   ],
   "source": [
    "%time create_rational_series(10000000)"
   ]
  },
  {
   "cell_type": "code",
   "execution_count": 85,
   "metadata": {
    "collapsed": false
   },
   "outputs": [
    {
     "name": "stdout",
     "output_type": "stream",
     "text": [
      "3\n",
      "3\n",
      "TERM 3 IS 2/1\n",
      "14\n",
      "TERM 14 IS 2/4\n",
      "7\n",
      "TERM 7 IS 1/4\n"
     ]
    }
   ],
   "source": [
    "no_cases = input()\n",
    "\n",
    "for i in range(0, no_cases):\n",
    "    index = input()\n",
    "    print \"TERM \" + str(index) + \" IS \" + str(rational_series_num[index-1]) + \"/\" +  str(rational_series_den[index-1])\n",
    "    "
   ]
  },
  {
   "cell_type": "code",
   "execution_count": 62,
   "metadata": {
    "collapsed": false
   },
   "outputs": [
    {
     "name": "stdout",
     "output_type": "stream",
     "text": [
      "['1/1', '1/2', '2/1', '3/1', '2/2', '1/3', '1/4', '2/3', '3/2', '4/1', '5/1', '4/2', '3/3', '2/4', '1/5', '1/6', '2/5', '3/4', '4/3', '5/2']\n"
     ]
    }
   ],
   "source": [
    "print rational_series"
   ]
  },
  {
   "cell_type": "code",
   "execution_count": null,
   "metadata": {
    "collapsed": true
   },
   "outputs": [],
   "source": []
  }
 ],
 "metadata": {
  "kernelspec": {
   "display_name": "Python 2",
   "language": "python",
   "name": "python2"
  },
  "language_info": {
   "codemirror_mode": {
    "name": "ipython",
    "version": 2
   },
   "file_extension": ".py",
   "mimetype": "text/x-python",
   "name": "python",
   "nbconvert_exporter": "python",
   "pygments_lexer": "ipython2",
   "version": "2.7.12"
  }
 },
 "nbformat": 4,
 "nbformat_minor": 1
}
